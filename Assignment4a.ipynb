{
 "cells": [
  {
   "cell_type": "markdown",
   "id": "3481cab4-ec5a-423c-ade6-6761d2b3d6a3",
   "metadata": {},
   "source": [
    "# Building your deep neural network:\n",
    "step by step"
   ]
  },
  {
   "cell_type": "markdown",
   "id": "775dc53c-3ef7-423b-9a9d-5a5dddc79dec",
   "metadata": {},
   "source": [
    "In this Notebook, you implement all the function required to build a deep neural network"
   ]
  },
  {
   "cell_type": "markdown",
   "id": "858bace8-9b2e-46fb-87ce-0a7fd85b9b48",
   "metadata": {},
   "source": [
    "# Notation"
   ]
  },
  {
   "cell_type": "markdown",
   "id": "2cfe338c-e4ab-4cda-8870-1fa8c8ffb49d",
   "metadata": {},
   "source": [
    "1.Superscript[l] denotes a quantity associated with the lth layer.\n",
    " \n",
    " Example: a[l] is the Lth layer activation.W[l] and b[l] are the Lth layer parameters.\n",
    "\n",
    "\n",
    "2.Superscript(i)  denotes a quantity associated with the ith example.\n",
    "\n",
    "Example: x[i] is the ith training example\n",
    "\n",
    "\n",
    "3.Lowerscript i denote the ith entry of a vector\n",
    "  "
   ]
  },
  {
   "cell_type": "markdown",
   "id": "8e07dac3-e8bc-443d-be49-48bfe2224998",
   "metadata": {},
   "source": [
    "# packages"
   ]
  },
  {
   "cell_type": "code",
   "execution_count": 1,
   "id": "adf05a4a-e3f4-4213-bb5a-ffc21c7f3cc1",
   "metadata": {},
   "outputs": [],
   "source": [
    "import numpy as np\n",
    "import h5py\n",
    "import matplotlib.pyplot as plt\n",
    "\n",
    "%matplotlib inline\n",
    "plt.rcParams['figure.figsize'] = (5.0,4.0) # set default size of plots\n",
    "plt.rcParams['image.interpolation'] = 'nearest'\n",
    "plt.rcParams['image.cmap'] = 'grey'\n",
    "\n",
    "np.random.seed(1)"
   ]
  },
  {
   "cell_type": "code",
   "execution_count": 2,
   "id": "76f33086-0d41-4658-a82e-cc11132ae9cc",
   "metadata": {},
   "outputs": [],
   "source": [
    "%run dnn_utils.ipynb"
   ]
  },
  {
   "cell_type": "markdown",
   "id": "f01fdd91-26af-495a-8d97-2d573fbdf5b1",
   "metadata": {},
   "source": [
    "# Initialization"
   ]
  },
  {
   "cell_type": "markdown",
   "id": "2caef88f-7e6c-4953-b568-ee7d93d3b7fd",
   "metadata": {},
   "source": [
    "we will write two helper function that will initialize the parameter for model.\n",
    "\n",
    "The first function will be used to initialize parameter for 2 layer model. \n",
    "\n",
    "The second one will generlize this initialization process to L layer"
   ]
  },
  {
   "cell_type": "code",
   "execution_count": 3,
   "id": "1f330ab9-1df7-4028-8498-4fd96e799eb0",
   "metadata": {},
   "outputs": [],
   "source": [
    "#  Graded function : initialize_parameter\n",
    "\n",
    "def initialize_parameter(n_x, n_h, n_y):\n",
    "    \"\"\"\n",
    "    Argument:\n",
    "    n_x -- size of input layer\n",
    "    n_h -- size of hidden layer\n",
    "    n_y -- size of output layer\n",
    "\n",
    "    Return:\n",
    "    parameters -- python dictionary containing parameters:\n",
    "                   W1 -- weight matrix of shape (n_h, n_x)\n",
    "                   b1 -- bias of matrix of shape (n_h, 1)\n",
    "                   W2 -- weight matrix of shape (n_h, n_y)\n",
    "                   b2 -- bias matrix of shape (n_y, 1)\n",
    "                   \"\"\"\n",
    "    np.random.seed(1)\n",
    "    ## start code here ##\n",
    "    W1 = np.random.randn(n_h, n_x)*0.01\n",
    "    b1 = np.zeros((n_h, 1))\n",
    "    W2 = np.random.randn(n_y,n_h)*0.01\n",
    "    b2 = np.zeros((n_y,1))\n",
    "    parameters = {'W1':W1,'b1':b1,'W2':W2,'b2':b2}\n",
    "    return parameters"
   ]
  },
  {
   "cell_type": "code",
   "execution_count": 4,
   "id": "209fd217-b056-4506-8f10-38c7ca0bc85a",
   "metadata": {},
   "outputs": [],
   "source": [
    "parameters = initialize_parameter(3,2,1)"
   ]
  },
  {
   "cell_type": "code",
   "execution_count": 5,
   "id": "fc60e6e9-615a-44a0-b511-27946455e604",
   "metadata": {},
   "outputs": [
    {
     "data": {
      "text/plain": [
       "{'W1': array([[ 0.01624345, -0.00611756, -0.00528172],\n",
       "        [-0.01072969,  0.00865408, -0.02301539]]),\n",
       " 'b1': array([[0.],\n",
       "        [0.]]),\n",
       " 'W2': array([[ 0.01744812, -0.00761207]]),\n",
       " 'b2': array([[0.]])}"
      ]
     },
     "execution_count": 5,
     "metadata": {},
     "output_type": "execute_result"
    }
   ],
   "source": [
    "parameters"
   ]
  },
  {
   "cell_type": "markdown",
   "id": "b6266727-e4b7-41e0-ab86-e174c34436e3",
   "metadata": {},
   "source": [
    "# L-layer neural network"
   ]
  },
  {
   "cell_type": "markdown",
   "id": "8661eb54-9335-4747-9b72-da02d1e07ed4",
   "metadata": {},
   "source": [
    "Exercise - Implement initialization for an L layer Neural Network"
   ]
  },
  {
   "cell_type": "code",
   "execution_count": 6,
   "id": "986e662d-ff18-4f94-bab4-b524ca1c7d82",
   "metadata": {},
   "outputs": [],
   "source": [
    "def initialize_parameter_deep(layer_dims):\n",
    "    \"\"\"\n",
    "    Argument:\n",
    "    layer_dims -- python array (list) containing the dimensions of each layer in our network\n",
    "\n",
    "    Return:\n",
    "    parameters -- python dictionary containing your parameters \"W1\",\"b1\",....\"WL\",\"bL\":\n",
    "    \"\"\"\n",
    "    np.random.seed(1)\n",
    "    parameters = {}\n",
    "    L = len(layer_dims)\n",
    "    for l in range(1,L):\n",
    "        parameters['W'+str(l)] = np.random.randn(layer_dims[l],layer_dims[l-1])*0.01\n",
    "        parameters['b'+str(l)] = np.zeros((layer_dims[l],1))\n",
    "        ## end code here##\n",
    "        assert(parameters['W'+str(l)].shape == (layer_dims[l],layer_dims[l-1]))\n",
    "        assert(parameters['b'+str(l)].shape == (layer_dims[l],1))\n",
    "    return parameters"
   ]
  },
  {
   "cell_type": "code",
   "execution_count": 7,
   "id": "84fc358c-ce9f-47cb-8edf-423e0f02c429",
   "metadata": {},
   "outputs": [],
   "source": [
    "parameters = initialize_parameter_deep([5,4,3,1,5,2,1])"
   ]
  },
  {
   "cell_type": "code",
   "execution_count": 20,
   "id": "910a92bd-bb6e-43d3-bb99-e1a98580881b",
   "metadata": {},
   "outputs": [
    {
     "data": {
      "text/plain": [
       "6"
      ]
     },
     "execution_count": 20,
     "metadata": {},
     "output_type": "execute_result"
    }
   ],
   "source": [
    "len(parameters)//2"
   ]
  },
  {
   "cell_type": "markdown",
   "id": "de9786f9-edc6-4e12-b04e-d7ba2e2d9b40",
   "metadata": {},
   "source": [
    "# Forward propagation module"
   ]
  },
  {
   "cell_type": "markdown",
   "id": "4113ed29-a9e6-4b3f-9262-8dec75870651",
   "metadata": {},
   "source": [
    "Exercise - Build linear part of forward propagation"
   ]
  },
  {
   "cell_type": "code",
   "execution_count": 9,
   "id": "8f018177-a210-46cd-8a5d-d67aba9108a9",
   "metadata": {},
   "outputs": [],
   "source": [
    "def linear_forward(A,W,b):\n",
    "    \"\"\"\n",
    "    Implement the linear part of a layer's forward propagation\n",
    "\n",
    "    Argument:\n",
    "    A -- Activation from previous layer (or input data):(size of previous layer, number of example)\n",
    "    W -- weight matrix: (size of current layer,size of A)\n",
    "    b -- bias vector : (size of current layer , 1)\n",
    "    Return:\n",
    "    Z -- the input of the activation function\n",
    "    cache -- a python tuple containing \"A\",\"W\" and b\n",
    "    \"\"\"\n",
    "    Z = np.dot(W,A) + b\n",
    "    assert(Z.shape == (W.shape[0],A.shape[1]))\n",
    "    cache = (A,W,b)\n",
    "    return Z,cache"
   ]
  },
  {
   "cell_type": "code",
   "execution_count": 11,
   "id": "b50a2a54-7b49-417c-9aea-4f2ec3351ad1",
   "metadata": {},
   "outputs": [],
   "source": [
    "A = np.random.randn(4,10)\n",
    "W = np.random.randn(3,4)\n",
    "b = np.random.randn(3,1)"
   ]
  },
  {
   "cell_type": "code",
   "execution_count": 12,
   "id": "3e368cbc-82c2-4cbe-a649-25fe812e8ebe",
   "metadata": {},
   "outputs": [],
   "source": [
    "Z,cache = linear_forward(A,W,b)\n"
   ]
  },
  {
   "cell_type": "code",
   "execution_count": 13,
   "id": "37d992fd-f811-496d-962b-a86e0540e8d7",
   "metadata": {},
   "outputs": [
    {
     "data": {
      "text/plain": [
       "array([[-0.91156237, -0.37064181, -1.17954225, -2.11397941, -2.31412053,\n",
       "        -2.03525026, -2.49121645, -0.12504553,  0.10917142, -1.31357662],\n",
       "       [ 0.61560635,  0.01951302,  0.20523496,  1.30121351, -0.34806663,\n",
       "        -0.33431456,  0.10884262,  0.12010891,  1.34055284, -0.02969873],\n",
       "       [ 2.05480795,  1.12866528,  1.67721578, -0.35957799,  1.22947042,\n",
       "         2.74345612,  3.45426792, -0.38733344, -0.0685148 , -0.40845835]])"
      ]
     },
     "execution_count": 13,
     "metadata": {},
     "output_type": "execute_result"
    }
   ],
   "source": [
    "Z"
   ]
  },
  {
   "cell_type": "code",
   "execution_count": 14,
   "id": "9881cd79-8261-4022-b856-1a416c6c2406",
   "metadata": {},
   "outputs": [
    {
     "data": {
      "text/plain": [
       "(array([[-1.1425182 , -0.34934272, -0.20889423,  0.58662319,  0.83898341,\n",
       "          0.93110208,  0.28558733,  0.88514116, -0.75439794,  1.25286816],\n",
       "        [ 0.51292982, -0.29809284,  0.48851815, -0.07557171,  1.13162939,\n",
       "          1.51981682,  2.18557541, -1.39649634, -1.44411381, -0.50446586],\n",
       "        [ 0.16003707,  0.87616892,  0.31563495, -2.02220122, -0.30620401,\n",
       "          0.82797464,  0.23009474,  0.76201118, -0.22232814, -0.20075807],\n",
       "        [ 0.18656139,  0.41005165,  0.19829972,  0.11900865, -0.67066229,\n",
       "          0.37756379,  0.12182127,  1.12948391,  1.19891788,  0.18515642]]),\n",
       " array([[-0.37528495, -0.63873041,  0.42349435,  0.07734007],\n",
       "        [-0.34385368,  0.04359686, -0.62000084,  0.69803203],\n",
       "        [-0.44712856,  1.2245077 ,  0.40349164,  0.59357852]]),\n",
       " array([[-1.09491185],\n",
       "        [ 0.16938243],\n",
       "        [ 0.74055645]]))"
      ]
     },
     "execution_count": 14,
     "metadata": {},
     "output_type": "execute_result"
    }
   ],
   "source": [
    "cache"
   ]
  },
  {
   "cell_type": "markdown",
   "id": "20ea3556-7d1e-494a-b7d1-33002039a6bc",
   "metadata": {},
   "source": [
    "# Linear-Activation forward"
   ]
  },
  {
   "cell_type": "markdown",
   "id": "c817e339-1da1-482c-ba47-699c8973558b",
   "metadata": {},
   "source": [
    "Exercise - Implement the forward propagation of linear Activation layer."
   ]
  },
  {
   "cell_type": "code",
   "execution_count": 15,
   "id": "f520f446-6ee1-46ce-ad8a-def2050c0d2b",
   "metadata": {},
   "outputs": [],
   "source": [
    "# Graded function : linear_activation_forward\n",
    "def linear_activation_forward(A_prev, W, b, activation):\n",
    "    \"\"\"\n",
    "    Implement the forward propagation for the Linear ->Activation layer\n",
    "\n",
    "    Arguments:\n",
    "    A_prev -- activation from previous layer or input data:(size of previous layer,number of example)\n",
    "    W --- weight matrix\n",
    "    b -- bias matrix\n",
    "    activation -- the activation used in this layer\n",
    "\n",
    "    Return:\n",
    "    A -- the output of the activation function, also called post-activation value\n",
    "    cache -- a python tuple containing 'linear_cache' and 'activation_cache'\n",
    "    \"\"\"\n",
    "    if activation == 'sigmoid':\n",
    "        Z,linear_cache = linear_forward(A_prev, W, b)\n",
    "        A,activation_cache = sigmoid(Z)\n",
    "        ## End code here'##\n",
    "    elif activation == 'relu':\n",
    "        Z, linear_cache = linear_forward(A_prev, W, b)\n",
    "        A, activation_cache = relu(Z)\n",
    "        ## end code here ##\n",
    "    assert (A.shape ==(W.shape[0],A_prev.shape[1]))\n",
    "    cache = (linear_cache,activation_cache)\n",
    "\n",
    "    return A, cache\n",
    "        "
   ]
  },
  {
   "cell_type": "code",
   "execution_count": 16,
   "id": "6fd80ea3-a026-4d37-8ebf-812feb3e9a73",
   "metadata": {},
   "outputs": [],
   "source": [
    "A1,cache = linear_activation_forward(A,W,b,'sigmoid')"
   ]
  },
  {
   "cell_type": "code",
   "execution_count": 17,
   "id": "8eedb406-e0ea-47ba-8b08-bd8e0290c982",
   "metadata": {},
   "outputs": [
    {
     "data": {
      "text/plain": [
       "array([[0.28668023, 0.40838595, 0.23513451, 0.1077455 , 0.08996024,\n",
       "        0.11555127, 0.07647624, 0.46877929, 0.52726578, 0.21188896],\n",
       "       [0.64921862, 0.5048781 , 0.5511294 , 0.78603914, 0.41385134,\n",
       "        0.4171912 , 0.52718382, 0.52999118, 0.79258084, 0.49257586],\n",
       "       [0.88643253, 0.7555925 , 0.8425355 , 0.41106173, 0.77372587,\n",
       "        0.93954271, 0.96935816, 0.40435939, 0.482878  , 0.39928184]])"
      ]
     },
     "execution_count": 17,
     "metadata": {},
     "output_type": "execute_result"
    }
   ],
   "source": [
    "A1"
   ]
  },
  {
   "cell_type": "code",
   "execution_count": 18,
   "id": "30420a39-12cd-4c39-8eeb-bd912cf86a98",
   "metadata": {},
   "outputs": [
    {
     "data": {
      "text/plain": [
       "((array([[-1.1425182 , -0.34934272, -0.20889423,  0.58662319,  0.83898341,\n",
       "           0.93110208,  0.28558733,  0.88514116, -0.75439794,  1.25286816],\n",
       "         [ 0.51292982, -0.29809284,  0.48851815, -0.07557171,  1.13162939,\n",
       "           1.51981682,  2.18557541, -1.39649634, -1.44411381, -0.50446586],\n",
       "         [ 0.16003707,  0.87616892,  0.31563495, -2.02220122, -0.30620401,\n",
       "           0.82797464,  0.23009474,  0.76201118, -0.22232814, -0.20075807],\n",
       "         [ 0.18656139,  0.41005165,  0.19829972,  0.11900865, -0.67066229,\n",
       "           0.37756379,  0.12182127,  1.12948391,  1.19891788,  0.18515642]]),\n",
       "  array([[-0.37528495, -0.63873041,  0.42349435,  0.07734007],\n",
       "         [-0.34385368,  0.04359686, -0.62000084,  0.69803203],\n",
       "         [-0.44712856,  1.2245077 ,  0.40349164,  0.59357852]]),\n",
       "  array([[-1.09491185],\n",
       "         [ 0.16938243],\n",
       "         [ 0.74055645]])),\n",
       " array([[-0.91156237, -0.37064181, -1.17954225, -2.11397941, -2.31412053,\n",
       "         -2.03525026, -2.49121645, -0.12504553,  0.10917142, -1.31357662],\n",
       "        [ 0.61560635,  0.01951302,  0.20523496,  1.30121351, -0.34806663,\n",
       "         -0.33431456,  0.10884262,  0.12010891,  1.34055284, -0.02969873],\n",
       "        [ 2.05480795,  1.12866528,  1.67721578, -0.35957799,  1.22947042,\n",
       "          2.74345612,  3.45426792, -0.38733344, -0.0685148 , -0.40845835]]))"
      ]
     },
     "execution_count": 18,
     "metadata": {},
     "output_type": "execute_result"
    }
   ],
   "source": [
    "cache"
   ]
  },
  {
   "cell_type": "markdown",
   "id": "1304edbb-eef6-4ff8-91f7-8ae63f651c86",
   "metadata": {},
   "source": [
    "# L- layer Model"
   ]
  },
  {
   "cell_type": "markdown",
   "id": "d3bb40d7-f91b-4875-994f-24d24793b083",
   "metadata": {},
   "source": [
    "Exercise -- Implement forward propagation for L-layer model"
   ]
  },
  {
   "cell_type": "code",
   "execution_count": 27,
   "id": "cf670c09-581f-4455-9346-4c62ef15f1b2",
   "metadata": {},
   "outputs": [],
   "source": [
    "def L_model_forward(X,parameters):\n",
    "    \"\"\"\n",
    "    Implement forward propagation for the [Linear ->Relu]*(L-1)->Linear ->Sigmoid computation\n",
    "\n",
    "    Argument:\n",
    "    X -- data, numpy array of shape (input size, number of example)\n",
    "    parameters -- output of initialize_parameters_deep()\n",
    "\n",
    "    Return:\n",
    "    A[L] -- last post-activation value\n",
    "    cache -- list of cache containing:\n",
    "              every cache of linear_activation_forward()\n",
    "    \"\"\"\n",
    "    caches = []\n",
    "    A = X\n",
    "    L = len(parameters)//2\n",
    "    # implement [Linear -> relu]*(L-1)\n",
    "    for l in range(1,L):\n",
    "        A_prev = A\n",
    "        A,cache = linear_activation_forward(A_prev,parameters['W'+str(l)],parameters['b'+str(l)],'relu')\n",
    "        caches.append(cache)\n",
    "        ## end code here\n",
    "\n",
    "    # Implement Linear -> sigmoid. ##\n",
    "    AL, cache = linear_activation_forward(A,parameters['W'+str(L)],parameters['b'+str(L)],'sigmoid')\n",
    "    caches.append(cache)\n",
    "    assert(AL.shape == (1,X.shape[1]))\n",
    "    return AL,caches\n",
    "     \n",
    "        "
   ]
  },
  {
   "cell_type": "code",
   "execution_count": 22,
   "id": "ddfd82a9-f7d5-475b-8655-1cb040d45d9c",
   "metadata": {},
   "outputs": [],
   "source": [
    "def L_model_forward_test_case_2hidden():\n",
    "    np.random.seed(6)\n",
    "    X = np.random.randn(5,4)\n",
    "    W1 = np.random.randn(4,5)\n",
    "    b1 = np.random.randn(4,1)\n",
    "    W2 = np.random.randn(3,4)\n",
    "    b2 = np.random.randn(3,1)\n",
    "    W3 = np.random.randn(1,3)\n",
    "    b3 = np.random.randn(1,1)\n",
    "  \n",
    "    parameters = {\"W1\": W1,\n",
    "                  \"b1\": b1,\n",
    "                  \"W2\": W2,\n",
    "                  \"b2\": b2,\n",
    "                  \"W3\": W3,\n",
    "                  \"b3\": b3}\n",
    "    \n",
    "    return X, parameters"
   ]
  },
  {
   "cell_type": "code",
   "execution_count": 23,
   "id": "c59b2909-0cae-4486-a2dd-203388887287",
   "metadata": {},
   "outputs": [],
   "source": [
    "X, parameters = L_model_forward_test_case_2hidden()"
   ]
  },
  {
   "cell_type": "code",
   "execution_count": 28,
   "id": "289424e3-7a01-4f6b-bded-294cc8cbe17d",
   "metadata": {},
   "outputs": [
    {
     "name": "stdout",
     "output_type": "stream",
     "text": [
      "AL =[[0.03921668 0.70498921 0.19734387 0.04728177]]\n",
      "Length of caches list =3 caches = [((array([[-0.31178367,  0.72900392,  0.21782079, -0.8990918 ],\n",
      "       [-2.48678065,  0.91325152,  1.12706373, -1.51409323],\n",
      "       [ 1.63929108, -0.4298936 ,  2.63128056,  0.60182225],\n",
      "       [-0.33588161,  1.23773784,  0.11112817,  0.12915125],\n",
      "       [ 0.07612761, -0.15512816,  0.63422534,  0.810655  ]]), array([[ 0.35480861,  1.81259031, -1.3564758 , -0.46363197,  0.82465384],\n",
      "       [-1.17643148,  1.56448966,  0.71270509, -0.1810066 ,  0.53419953],\n",
      "       [-0.58661296, -1.48185327,  0.85724762,  0.94309899,  0.11444143],\n",
      "       [-0.02195668, -2.12714455, -0.83440747, -0.46550831,  0.23371059]]), array([[ 1.38503523],\n",
      "       [-0.51962709],\n",
      "       [-0.78015214],\n",
      "       [ 0.95560959]])), array([[-5.23825714,  3.18040136,  0.4074501 , -1.88612721],\n",
      "       [-2.77358234, -0.56177316,  3.18141623, -0.99209432],\n",
      "       [ 4.18500916, -1.78006909, -0.14502619,  2.72141638],\n",
      "       [ 5.05850802, -1.25674082, -3.54566654,  3.82321852]])), ((array([[0.        , 3.18040136, 0.4074501 , 0.        ],\n",
      "       [0.        , 0.        , 3.18141623, 0.        ],\n",
      "       [4.18500916, 0.        , 0.        , 2.72141638],\n",
      "       [5.05850802, 0.        , 0.        , 3.82321852]]), array([[-0.12673638, -1.36861282,  1.21848065, -0.85750144],\n",
      "       [-0.56147088, -1.0335199 ,  0.35877096,  1.07368134],\n",
      "       [-0.37550472,  0.39636757, -0.47144628,  2.33660781]]), array([[ 1.50278553],\n",
      "       [-0.59545972],\n",
      "       [ 0.52834106]])), array([[ 2.2644603 ,  1.09971298, -2.90298027,  1.54036335],\n",
      "       [ 6.33722569, -2.38116246, -4.11228806,  4.48582383],\n",
      "       [10.37508342, -0.66591468,  1.63635185,  8.17870169]])), ((array([[ 2.2644603 ,  1.09971298,  0.        ,  1.54036335],\n",
      "       [ 6.33722569,  0.        ,  0.        ,  4.48582383],\n",
      "       [10.37508342,  0.        ,  1.63635185,  8.17870169]]), array([[ 0.9398248 ,  0.42628539, -0.75815703]]), array([[-0.16236698]])), array([[-3.19864676,  0.87117055, -1.40297864, -3.00319435]]))]\n"
     ]
    }
   ],
   "source": [
    "AL,caches = L_model_forward(X,parameters)\n",
    "print('AL =' + str(AL))\n",
    "print('Length of caches list =' + str(len(caches)),'caches =',caches)"
   ]
  },
  {
   "cell_type": "markdown",
   "id": "5dc0e79c-f264-4746-bcf0-2c9e74945c9b",
   "metadata": {},
   "source": [
    "Great! Now we have a full forward propagation that take the input X and output a row vector A[l] containing prediction. It also records all intermediate value in cache.\n",
    "\n",
    "Let's compute cost function"
   ]
  },
  {
   "cell_type": "markdown",
   "id": "6ff19457-546d-4bbf-8685-3aede99c25d7",
   "metadata": {},
   "source": [
    "# Cost function"
   ]
  },
  {
   "cell_type": "markdown",
   "id": "f703affa-fa6c-4f0e-a3c9-1a5d16e4e4b1",
   "metadata": {},
   "source": [
    "Exercise -- Compute the cross-entropy cost J"
   ]
  },
  {
   "cell_type": "code",
   "execution_count": 29,
   "id": "543d4aed-f0ab-4b41-aed1-82fe9833e258",
   "metadata": {},
   "outputs": [],
   "source": [
    "# graded function : compute_cost\n",
    "def compute_cost(AL,Y):\n",
    "    \"\"\"\n",
    "    Implement the cost function defined.\n",
    "\n",
    "    Argument:\n",
    "    AL -- probability vector corrosponding to label prediction\n",
    "    Y -- true label vector\n",
    "\n",
    "    Return:\n",
    "    cost -- cross entropy cost\n",
    "    \"\"\"\n",
    "    m = Y.shape[1]\n",
    "    # compute Loss from AL and Y\n",
    "    cost = (-1/m) * (np.dot(Y,np.log(AL).T) + np.dot((1-Y),np.log(1-AL).T))\n",
    "    ## End code here##\n",
    "    cost = np.squeeze(cost)\n",
    "    assert(cost.shape ==())\n",
    "    return cost"
   ]
  },
  {
   "cell_type": "code",
   "execution_count": 30,
   "id": "2fde8260-ae81-4628-bfd9-6b96f8f84b69",
   "metadata": {},
   "outputs": [],
   "source": [
    "def compute_cost_test_case():\n",
    "    Y = np.asarray([[1, 1, 0]])\n",
    "    aL = np.array([[.8,.9,0.4]])\n",
    "    \n",
    "    return Y, aL"
   ]
  },
  {
   "cell_type": "code",
   "execution_count": 31,
   "id": "18909161-f81f-41b9-a0c0-0ef0ed3ff09f",
   "metadata": {},
   "outputs": [],
   "source": [
    "Y, AL = compute_cost_test_case()"
   ]
  },
  {
   "cell_type": "code",
   "execution_count": 32,
   "id": "19e46500-8734-441a-af17-8e649808eabb",
   "metadata": {},
   "outputs": [
    {
     "name": "stdout",
     "output_type": "stream",
     "text": [
      "cost =  0.2797765635793422\n"
     ]
    }
   ],
   "source": [
    "print('cost = ',compute_cost(AL,Y))"
   ]
  },
  {
   "cell_type": "markdown",
   "id": "d0a11adf-6b1a-4793-bdc4-915c75bea631",
   "metadata": {},
   "source": [
    "# Backward Propagation"
   ]
  },
  {
   "cell_type": "markdown",
   "id": "d59c525a-b225-4c36-922f-44fd62deaccf",
   "metadata": {},
   "source": [
    "Just like forward propagation, we will implement helper function for backpropagation"
   ]
  },
  {
   "cell_type": "code",
   "execution_count": 33,
   "id": "8964f76a-2c00-4287-9bf8-da57d4bcfcb9",
   "metadata": {},
   "outputs": [],
   "source": [
    "# graded function: linear_backward\n",
    "def linear_backward(dZ,cache):\n",
    "    # Here cache is linear_cache\" containing (A_prev,W,b) coming from the forward propagation in current layer\n",
    "    \"\"\" \n",
    "    Implement the linear portion of backward propagation for a single layer(l)\n",
    "\n",
    "    Arguments:\n",
    "    dZ -- Gradient of the cost with respect to the linear output of current layer 1\n",
    "    cache -- tuple of value (A_prev, W, b) coming from the forward propagation in current layer\n",
    "\n",
    "    Return:\n",
    "    dA_prev -- Gradient of the cost with respect to the activation (of the previous layer l-1),same shape as A_prev\n",
    "    dW -- Gradient of the cost with respect to W\n",
    "    db -- gradient of the cost with respect to b\n",
    "    \"\"\"\n",
    "    A_prev, W, b = cache\n",
    "    m = A_prev.shape[1]\n",
    "    ## start code here ##\n",
    "    dW = (1/m) * np.dot(dZ,A_prev.T)\n",
    "    db = (1/m) * np.sum(dZ, axis = 1, keepdims = True)\n",
    "    dA_prev = np.dot(W.T,dZ)\n",
    "    ## end code here ##\n",
    "    assert(dA_prev.shape == A_prev.shape)\n",
    "    assert(dW.shape == W.shape)\n",
    "    assert(db.shape == b.shape)\n",
    "    return dA_prev, dW, db"
   ]
  },
  {
   "cell_type": "code",
   "execution_count": 34,
   "id": "aea61bc9-f3ec-42ca-9887-4b51fc589428",
   "metadata": {},
   "outputs": [],
   "source": [
    "def linear_backward_test_case():\n",
    "    \"\"\"\n",
    "    z, linear_cache = (np.array([[-0.8019545 ,  3.85763489]]), (np.array([[-1.02387576,  1.12397796],\n",
    "       [-1.62328545,  0.64667545],\n",
    "       [-1.74314104, -0.59664964]]), np.array([[ 0.74505627,  1.97611078, -1.24412333]]), np.array([[1]]))\n",
    "    \"\"\"\n",
    "    np.random.seed(1)\n",
    "    dZ = np.random.randn(3,4)\n",
    "    A = np.random.randn(5,4)\n",
    "    W = np.random.randn(3,5)\n",
    "    b = np.random.randn(3,1)\n",
    "    linear_cache = (A, W, b)\n",
    "    return dZ, linear_cache"
   ]
  },
  {
   "cell_type": "code",
   "execution_count": 35,
   "id": "79ae3c2c-b073-4e7e-9244-f7a8c4f149dc",
   "metadata": {},
   "outputs": [],
   "source": [
    "# set up some test inputs\n",
    "\n",
    "dZ, linear_cache = linear_backward_test_case()\n"
   ]
  },
  {
   "cell_type": "code",
   "execution_count": 36,
   "id": "98a3b00d-7804-4ef1-9d8e-d5d2c5be5e8c",
   "metadata": {},
   "outputs": [
    {
     "name": "stdout",
     "output_type": "stream",
     "text": [
      "dA_prev = [[-1.15171336  0.06718465 -0.3204696   2.09812712]\n",
      " [ 0.60345879 -3.72508701  5.81700741 -3.84326836]\n",
      " [-0.4319552  -1.30987417  1.72354705  0.05070578]\n",
      " [-0.38981415  0.60811244 -1.25938424  1.47191593]\n",
      " [-2.52214926  2.67882552 -0.67947465  1.48119548]]\n",
      "dW = [[ 0.07313866 -0.0976715  -0.87585828  0.73763362  0.00785716]\n",
      " [ 0.85508818  0.37530413 -0.59912655  0.71278189 -0.58931808]\n",
      " [ 0.97913304 -0.24376494 -0.08839671  0.55151192 -0.10290907]]\n",
      "db = [[-0.14713786]\n",
      " [-0.11313155]\n",
      " [-0.13209101]]\n"
     ]
    }
   ],
   "source": [
    "dA_prev, dW, db = linear_backward(dZ,linear_cache)\n",
    "print('dA_prev =',dA_prev)\n",
    "print('dW =',dW)\n",
    "print('db =',db)"
   ]
  },
  {
   "cell_type": "markdown",
   "id": "9254def3-6b33-4d9e-b14b-7de3fe5eee43",
   "metadata": {},
   "source": [
    "# Linear-Activation backward "
   ]
  },
  {
   "cell_type": "markdown",
   "id": "f2bbcd09-621c-46c7-a4ce-aa2cb98698f1",
   "metadata": {},
   "source": [
    "Next, you will create a function that merges the two helper functions:\n",
    "\n",
    "linear_backward and the backward step for the activation\n",
    "\n",
    "linear_activation_backward ."
   ]
  },
  {
   "cell_type": "code",
   "execution_count": 42,
   "id": "28523cc5-9144-4a6c-8079-d6be2bdf2d22",
   "metadata": {},
   "outputs": [],
   "source": [
    "def linear_activation_backward(dA, cache, activation):\n",
    "    \"\"\"\n",
    "    Implement the backward propagation for the Linear -> Activation layer.\n",
    "\n",
    "    Argument:\n",
    "    dA -- post-activation gradient for current layer l\n",
    "    cache -- tuple of values (linear_cache,activation_cache)\n",
    "    activation -- the activation to be used in this layer\n",
    "\n",
    "    Return:\n",
    "    dA_prev , db, dW\n",
    "    \"\"\"\n",
    "    linear_cache, activation_cache = cache\n",
    "    if activation == 'relu':\n",
    "        dZ = relu_backward(dA, activation_cache)\n",
    "    elif activation == 'sigmoid':\n",
    "        dZ = sigmoid_backward(dA,activation_cache)\n",
    "        ## end code here ##\n",
    "    dA_prev, dW, db = linear_backward(dZ,linear_cache)\n",
    "    return dA_prev, dW, db"
   ]
  },
  {
   "cell_type": "code",
   "execution_count": 38,
   "id": "ae393938-8a74-4b2d-b5fa-200a27db41c3",
   "metadata": {},
   "outputs": [],
   "source": [
    "def linear_activation_backward_test_case():\n",
    "    \"\"\"\n",
    "    aL, linear_activation_cache = (np.array([[ 3.1980455 ,  7.85763489]]), ((np.array([[-1.02387576,  1.12397796], [-1.62328545,  0.64667545], [-1.74314104, -0.59664964]]), np.array([[ 0.74505627,  1.97611078, -1.24412333]]), 5), np.array([[ 3.1980455 ,  7.85763489]])))\n",
    "    \"\"\"\n",
    "    np.random.seed(2)\n",
    "    dA = np.random.randn(1,2)\n",
    "    A = np.random.randn(3,2)\n",
    "    W = np.random.randn(1,3)\n",
    "    b = np.random.randn(1,1)\n",
    "    Z = np.random.randn(1,2)\n",
    "    linear_cache = (A, W, b)\n",
    "    activation_cache = Z\n",
    "    linear_activation_cache = (linear_cache, activation_cache)\n",
    "    \n",
    "    return dA, linear_activation_cache"
   ]
  },
  {
   "cell_type": "code",
   "execution_count": 39,
   "id": "6f9c5c11-ed0a-4570-afc6-e41744ebad9a",
   "metadata": {},
   "outputs": [],
   "source": [
    "dAL, linear_activation_cache = linear_activation_backward_test_case()"
   ]
  },
  {
   "cell_type": "code",
   "execution_count": 43,
   "id": "0cef63c4-354d-42a7-ac2c-72e4f22199cf",
   "metadata": {},
   "outputs": [
    {
     "name": "stdout",
     "output_type": "stream",
     "text": [
      "sigmoid:\n",
      "dA_prev =  [[ 0.11017994  0.01105339]\n",
      " [ 0.09466817  0.00949723]\n",
      " [-0.05743092 -0.00576154]]\n",
      "dW = [[ 0.10266786  0.09778551 -0.01968084]]\n",
      "db = [[-0.05729622]]\n"
     ]
    }
   ],
   "source": [
    "dA_prev, dW, db = linear_activation_backward(dAL,linear_activation_cache,activation = 'sigmoid')\n",
    "print('sigmoid:')\n",
    "print('dA_prev = ',dA_prev)\n",
    "print('dW =',dW)\n",
    "print('db =',db)"
   ]
  },
  {
   "cell_type": "markdown",
   "id": "ce55f521-fcf5-4f04-8713-f59d26befd67",
   "metadata": {},
   "source": [
    "# L-Model Backward"
   ]
  },
  {
   "cell_type": "code",
   "execution_count": 48,
   "id": "7625019a-ed08-45e0-a2cb-22d167feabd9",
   "metadata": {},
   "outputs": [],
   "source": [
    "# Graded function: l_model_backward\n",
    "\n",
    "def L_model_backward(AL, Y, caches):\n",
    "    \"\"\"\n",
    "    Implement the backward propagation for the [Linear ->Relu]*(L-1) -> sigmoid group\n",
    "\n",
    "    Arguments:\n",
    "    AL -- probability vector, output of the forward propagation (L_model_forward())\n",
    "    Y -- true 'label' vector (containing 0 if non-cat, 1 if cat)\n",
    "    caches -- list of caches containing:\n",
    "                        every caches of linear_activation_forward() with 'relu'(it's caches[l], for l in range(L-1))\n",
    "\n",
    "    Return:\n",
    "    grads -- A dictionary with the gradients\n",
    "              grads['dA'+str(l)]\n",
    "              grads['dW'+str(l)]\n",
    "              grads['db'+str(l)]\n",
    "     \"\"\"\n",
    "    grads = {}\n",
    "    L = len(caches) \n",
    "    m = AL.shape[1]\n",
    "    Y = Y.reshape(AL.shape)\n",
    "    # 'initializing the backpropagation'\n",
    "    dAL = -(np.divide(Y,AL)-np.divide(1-Y,1-AL))\n",
    "    # End code here\n",
    "    # Lth layer (sigmoid ->Linear)gradient. \n",
    "    current_cache = caches[L-1] # Last Layer\n",
    "    grads['dA' + str(L-1)],grads['dW'+str(L)],grads['db'+str(L)] = linear_activation_backward(dAL, current_cache,'sigmoid')\n",
    "    ## 'end code here'\n",
    "\n",
    "    for l in reversed(range(L-1)):\n",
    "        current_cache = caches[l]\n",
    "        dA_prev_temp, dW_temp, db_temp = linear_activation_backward(grads[\"dA\" + str(l + 1)], current_cache, activation = \"relu\")\n",
    "        grads['dA',str(l)] = dA_prev_temp\n",
    "        grads[\"dW\" + str(l + 1)] = dW_temp\n",
    "        grads[\"db\" + str(l + 1)] = db_temp\n",
    "    return grads    \n",
    "        \n",
    "        \n"
   ]
  },
  {
   "cell_type": "code",
   "execution_count": 45,
   "id": "00894f6f-f507-47d2-b823-238eafb83b5f",
   "metadata": {},
   "outputs": [],
   "source": [
    "def L_model_backward_test_case():\n",
    "    \"\"\"\n",
    "    X = np.random.rand(3,2)\n",
    "    Y = np.array([[1, 1]])\n",
    "    parameters = {'W1': np.array([[ 1.78862847,  0.43650985,  0.09649747]]), 'b1': np.array([[ 0.]])}\n",
    "\n",
    "    aL, caches = (np.array([[ 0.60298372,  0.87182628]]), [((np.array([[ 0.20445225,  0.87811744],\n",
    "           [ 0.02738759,  0.67046751],\n",
    "           [ 0.4173048 ,  0.55868983]]),\n",
    "    np.array([[ 1.78862847,  0.43650985,  0.09649747]]),\n",
    "    np.array([[ 0.]])),\n",
    "   np.array([[ 0.41791293,  1.91720367]]))])\n",
    "   \"\"\"\n",
    "    np.random.seed(3)\n",
    "    AL = np.random.randn(1, 2)\n",
    "    Y = np.array([[1, 0]])\n",
    "\n",
    "    A1 = np.random.randn(4,2)\n",
    "    W1 = np.random.randn(3,4)\n",
    "    b1 = np.random.randn(3,1)\n",
    "    Z1 = np.random.randn(3,2)\n",
    "    linear_cache_activation_1 = ((A1, W1, b1), Z1)\n",
    "\n",
    "    A2 = np.random.randn(3,2)\n",
    "    W2 = np.random.randn(1,3)\n",
    "    b2 = np.random.randn(1,1)\n",
    "    Z2 = np.random.randn(1,2)\n",
    "    linear_cache_activation_2 = ((A2, W2, b2), Z2)\n",
    "\n",
    "    caches = (linear_cache_activation_1, linear_cache_activation_2)\n",
    "\n",
    "    return AL, Y, caches\n"
   ]
  },
  {
   "cell_type": "code",
   "execution_count": 50,
   "id": "d4291e00-17e1-43af-baa4-c3600223663e",
   "metadata": {},
   "outputs": [
    {
     "name": "stdout",
     "output_type": "stream",
     "text": [
      "{'dA1': array([[ 0.12913162, -0.44014127],\n",
      "       [-0.14175655,  0.48317296],\n",
      "       [ 0.01663708, -0.05670698]]), 'dW2': array([[-0.39202432, -0.13325855, -0.04601089]]), 'db2': array([[0.15187861]]), ('dA', '0'): array([[ 0.        ,  0.52257901],\n",
      "       [ 0.        , -0.3269206 ],\n",
      "       [ 0.        , -0.32070404],\n",
      "       [ 0.        , -0.74079187]]), 'dW1': array([[0.41010002, 0.07807203, 0.13798444, 0.10502167],\n",
      "       [0.        , 0.        , 0.        , 0.        ],\n",
      "       [0.05283652, 0.01005865, 0.01777766, 0.0135308 ]]), 'db1': array([[-0.22007063],\n",
      "       [ 0.        ],\n",
      "       [-0.02835349]])}\n"
     ]
    }
   ],
   "source": [
    "AL, Y_assess, caches = L_model_backward_test_case()\n",
    "grads = L_model_backward(AL,Y_assess, caches)\n",
    "print(grads)"
   ]
  },
  {
   "cell_type": "markdown",
   "id": "d523675f-1fdf-4325-bc26-cfded9076a8b",
   "metadata": {},
   "source": [
    "# Update parameters"
   ]
  },
  {
   "cell_type": "markdown",
   "id": "aa1fe0a5-2e01-4734-a0f6-ccbb5aff579f",
   "metadata": {},
   "source": [
    "Exercise -- Implement update_parameters() to update your parameters using gradient descent"
   ]
  },
  {
   "cell_type": "code",
   "execution_count": 52,
   "id": "733bf484-0df5-40f7-974e-3081cab7167b",
   "metadata": {},
   "outputs": [],
   "source": [
    "# Graded function: update_parameters\n",
    "def update_parameters(parameters, grads, learning_rate):\n",
    "    \"\"\"\n",
    "    Update parameters using gradient descent\n",
    "\n",
    "    Argument:\n",
    "    parameters -- python dictionary containing parameters\n",
    "    grads -- Output of L-model\n",
    "\n",
    "    Return:\n",
    "    parameters -- python dictionary containing updated parameters\n",
    "    \"\"\"\n",
    "    L = len(parameters)//2\n",
    "    for l in range(L):\n",
    "        parameters['W'+str(l+1)] = parameters['W'+str(l+1)] - learning_rate * grads['dW'+str(l+1)]\n",
    "        parameters['b'+str(l+1)] = parameters['b'+str(l+1)] - learning_rate * grads['db'+str(l+1)]\n",
    "        # 'end code here' #\n",
    "    return parameters \n",
    "        \n",
    "        "
   ]
  },
  {
   "cell_type": "code",
   "execution_count": 53,
   "id": "33bad88d-dd80-4be8-baf9-b9db7b9f7ed2",
   "metadata": {},
   "outputs": [],
   "source": [
    "def update_parameters_test_case():\n",
    "    \"\"\"\n",
    "    parameters = {'W1': np.array([[ 1.78862847,  0.43650985,  0.09649747],\n",
    "        [-1.8634927 , -0.2773882 , -0.35475898],\n",
    "        [-0.08274148, -0.62700068, -0.04381817],\n",
    "        [-0.47721803, -1.31386475,  0.88462238]]),\n",
    " 'W2': np.array([[ 0.88131804,  1.70957306,  0.05003364, -0.40467741],\n",
    "        [-0.54535995, -1.54647732,  0.98236743, -1.10106763],\n",
    "        [-1.18504653, -0.2056499 ,  1.48614836,  0.23671627]]),\n",
    " 'W3': np.array([[-1.02378514, -0.7129932 ,  0.62524497],\n",
    "        [-0.16051336, -0.76883635, -0.23003072]]),\n",
    " 'b1': np.array([[ 0.],\n",
    "        [ 0.],\n",
    "        [ 0.],\n",
    "        [ 0.]]),\n",
    " 'b2': np.array([[ 0.],\n",
    "        [ 0.],\n",
    "        [ 0.]]),\n",
    " 'b3': np.array([[ 0.],\n",
    "        [ 0.]])}\n",
    "    grads = {'dW1': np.array([[ 0.63070583,  0.66482653,  0.18308507],\n",
    "        [ 0.        ,  0.        ,  0.        ],\n",
    "        [ 0.        ,  0.        ,  0.        ],\n",
    "        [ 0.        ,  0.        ,  0.        ]]),\n",
    " 'dW2': np.array([[ 1.62934255,  0.        ,  0.        ,  0.        ],\n",
    "        [ 0.        ,  0.        ,  0.        ,  0.        ],\n",
    "        [ 0.        ,  0.        ,  0.        ,  0.        ]]),\n",
    " 'dW3': np.array([[-1.40260776,  0.        ,  0.        ]]),\n",
    " 'da1': np.array([[ 0.70760786,  0.65063504],\n",
    "        [ 0.17268975,  0.15878569],\n",
    "        [ 0.03817582,  0.03510211]]),\n",
    " 'da2': np.array([[ 0.39561478,  0.36376198],\n",
    "        [ 0.7674101 ,  0.70562233],\n",
    "        [ 0.0224596 ,  0.02065127],\n",
    "        [-0.18165561, -0.16702967]]),\n",
    " 'da3': np.array([[ 0.44888991,  0.41274769],\n",
    "        [ 0.31261975,  0.28744927],\n",
    "        [-0.27414557, -0.25207283]]),\n",
    " 'db1': 0.75937676204411464,\n",
    " 'db2': 0.86163759922811056,\n",
    " 'db3': -0.84161956022334572}\n",
    "    \"\"\"\n",
    "    np.random.seed(2)\n",
    "    W1 = np.random.randn(3,4)\n",
    "    b1 = np.random.randn(3,1)\n",
    "    W2 = np.random.randn(1,3)\n",
    "    b2 = np.random.randn(1,1)\n",
    "    parameters = {\"W1\": W1,\n",
    "                  \"b1\": b1,\n",
    "                  \"W2\": W2,\n",
    "                  \"b2\": b2}\n",
    "    np.random.seed(3)\n",
    "    dW1 = np.random.randn(3,4)\n",
    "    db1 = np.random.randn(3,1)\n",
    "    dW2 = np.random.randn(1,3)\n",
    "    db2 = np.random.randn(1,1)\n",
    "    grads = {\"dW1\": dW1,\n",
    "             \"db1\": db1,\n",
    "             \"dW2\": dW2,\n",
    "             \"db2\": db2}\n",
    "    \n",
    "    return parameters, grads\n"
   ]
  },
  {
   "cell_type": "code",
   "execution_count": 54,
   "id": "35a83d98-4b26-41c8-a0d7-757845a425fc",
   "metadata": {},
   "outputs": [
    {
     "name": "stdout",
     "output_type": "stream",
     "text": [
      "W1 = [[-0.59562069 -0.09991781 -2.14584584  1.82662008]\n",
      " [-1.76569676 -0.80627147  0.51115557 -1.18258802]\n",
      " [-1.0535704  -0.86128581  0.68284052  2.20374577]]\n",
      "b1 = [[-0.04659241]\n",
      " [-1.28888275]\n",
      " [ 0.53405496]]\n",
      "W2 = [[-0.55569196  0.0354055   1.32964895]]\n",
      "b2 = [[-0.84610769]]\n"
     ]
    }
   ],
   "source": [
    "parameters, grads = update_parameters_test_case()\n",
    "parameters = update_parameters(parameters, grads,0.1)\n",
    "print('W1 =',parameters['W1'])\n",
    "print('b1 =',parameters['b1'])\n",
    "print('W2 =',parameters['W2'])\n",
    "print('b2 =',parameters['b2'])"
   ]
  },
  {
   "cell_type": "markdown",
   "id": "0ad83b9f-02c4-4fbd-b409-498e61dd04f4",
   "metadata": {},
   "source": [
    "# Conclusion"
   ]
  },
  {
   "cell_type": "markdown",
   "id": "4e5be2a1-02ed-4377-90ef-22ccba9d02db",
   "metadata": {},
   "source": [
    "Congrats on implementing all the function required for building a deep neural network!\n",
    "\n"
   ]
  },
  {
   "cell_type": "markdown",
   "id": "a6c7baf5-cf2c-4968-9239-548204a100e2",
   "metadata": {},
   "source": []
  }
 ],
 "metadata": {
  "kernelspec": {
   "display_name": "Python 3 (ipykernel)",
   "language": "python",
   "name": "python3"
  },
  "language_info": {
   "codemirror_mode": {
    "name": "ipython",
    "version": 3
   },
   "file_extension": ".py",
   "mimetype": "text/x-python",
   "name": "python",
   "nbconvert_exporter": "python",
   "pygments_lexer": "ipython3",
   "version": "3.11.7"
  },
  "widgets": {
   "application/vnd.jupyter.widget-state+json": {
    "state": {},
    "version_major": 2,
    "version_minor": 0
   }
  }
 },
 "nbformat": 4,
 "nbformat_minor": 5
}
